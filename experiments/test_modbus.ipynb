{
 "cells": [
  {
   "cell_type": "markdown",
   "metadata": {},
   "source": [
    "# Experiments related to General Modbus Reader"
   ]
  },
  {
   "cell_type": "code",
   "execution_count": 168,
   "metadata": {},
   "outputs": [],
   "source": [
    "import time\n",
    "import struct\n",
    "import logging\n",
    "from pymodbus.client.sync import ModbusTcpClient as ModbusClient\n",
    "import pymodbus\n"
   ]
  },
  {
   "cell_type": "code",
   "execution_count": 50,
   "metadata": {
    "tags": []
   },
   "outputs": [
    {
     "output_type": "stream",
     "name": "stdout",
     "text": "[34, 0, 0, 0, 206, 0, 19730, 59, 1, 1]\n"
    }
   ],
   "source": [
    "host = 'EM56akvill.dyndns.org'\n",
    "port = 30000\n",
    "with ModbusClient(host=host, port=port) as client:\n",
    "    #for r in range(2080, 2090):\n",
    "    r = 2080\n",
    "    result = client.read_input_registers(r, 10, unit=1)\n",
    "    print(result.registers)"
   ]
  },
  {
   "cell_type": "code",
   "execution_count": 172,
   "metadata": {
    "tags": []
   },
   "outputs": [
    {
     "output_type": "stream",
     "name": "stdout",
     "text": "\n EM56akvill.dyndns.org 30000 1 little\n\n EM56akvill.dyndns.org 30000 1 little\n\n em08akvill.dyndns.org 37770 1 little\n"
    },
    {
     "output_type": "execute_result",
     "data": {
      "text/plain": "[(1594361833.275705, 'test_heat_rate', 206, 1),\n (1594361833.275705, 'test_total_heat', 3892238, 1),\n (1594361833.275705, 'test_ret_temp', 154.8, 1),\n (1594361833.275705, 'test_sup_temp', 155.8, 1),\n (1594361833.7202737, 'test_hsout', 179.3, 1),\n (1594361833.7202737, 'test_hsin', 156.4, 1),\n (1594361833.900743, 'test_heat_rate', 5708955.5, 1),\n (1594361833.900743, 'test_flow', 17.688413492838542, 1)]"
     },
     "metadata": {},
     "execution_count": 172
    }
   ],
   "source": [
    "import base_reader\n",
    "settings = base_reader.DummySettings()\n",
    "\n",
    "device1 = ('abc.dyndns.org', 30000, {'endian': 'little'})\n",
    "device1_sensors = (\n",
    "    (2084, 'heat_rate'),\n",
    "    (2086, 'total_heat', {'datatype': 'uint32'}),\n",
    "    (2105, 'ret_temp', {'transform': 'val/10'}),\n",
    "    (2104, 'sup_temp', {'transform': 'val/10'}),\n",
    ")\n",
    "\n",
    "device2 = ('abc.dyndns.org', 30000, {'endian': 'little'})\n",
    "device2_sensors = (\n",
    "    (2103, 'hsout', {'transform': 'val/10'}),\n",
    "    (2102, 'hsin', {'transform': 'val/10'}),\n",
    ")\n",
    "\n",
    "device3 = ('def.dyndns.org', 37770, {'endian': 'little'})\n",
    "device3_sensors = (\n",
    "    (30, 'heat_rate', {'datatype': 'float32'}),\n",
    "    (6, 'flow', {'datatype': 'float32', 'transform': 'val/60'}),\n",
    ")\n",
    "\n",
    "settings.MODBUS_TARGETS = (\n",
    "    (device1, device1_sensors),\n",
    "    (device2, device2_sensors),\n",
    "    (device3, device3_sensors)\n",
    ")\n",
    "\n",
    "class ModbusTCPreader(base_reader.Reader):\n",
    "\n",
    "    def read(self):\n",
    "\n",
    "        # list to hold final readings\n",
    "        readings = []\n",
    "\n",
    "        for device_info, sensors in self._settings.MODBUS_TARGETS:\n",
    "\n",
    "            # use the same timestamp for all of the sensors on this device\n",
    "            ts = time.time()\n",
    "            try:\n",
    "                try:\n",
    "                    host, port, kwargs = device_info\n",
    "                except:\n",
    "                    host, port = device_info\n",
    "                    kwargs = {}\n",
    "                device_addr = kwargs.get('device_addr', 1)\n",
    "                endian = kwargs.get('endian', 'big')\n",
    "\n",
    "                if endian not in ('big', 'little'):\n",
    "                    raise ValueError(f'Improper endian value for Modbus device {device_info}') \n",
    "\n",
    "                print('\\n', host, port, device_addr, endian)\n",
    "                with ModbusClient(host=host, port=port) as client:\n",
    "                    for sensor_info in sensors:\n",
    "                        try:\n",
    "                            try:\n",
    "                                register, sensor_name, kwargs = sensor_info\n",
    "                            except:\n",
    "                                register, sensor_name = sensor_info\n",
    "                                kwargs = {}\n",
    "                            \n",
    "                            datatype = kwargs.get('datatype', 'uint16')\n",
    "                            transform = kwargs.get('transform', None)\n",
    "                            register_type = kwargs.get('register_type', 'holding')\n",
    "                            reading_type = kwargs.get('reading_type', 'value')\n",
    "\n",
    "                            # determine number of registers to read and the correct struct\n",
    "                            # unpacking code based upon the data type for this sensor.\n",
    "                            try:\n",
    "                                reg_count, unpack_fmt = {\n",
    "                                    'uint16': (1, 'H'),\n",
    "                                    'int16': (1, 'h'),\n",
    "                                    'uint32': (2, 'I'),\n",
    "                                    'int32': (2, 'i'),\n",
    "                                    'float': (2, 'f'),\n",
    "                                    'float32': (2, 'f'),\n",
    "                                    'double': (4, 'd'),\n",
    "                                    'float64': (4, 'd'),\n",
    "                                }[datatype]\n",
    "                            except:\n",
    "                                logging.exception(f'Invalid Modbus Datatype: {datatype} for Sensor {sensor_info}')\n",
    "                                continue\n",
    "\n",
    "                            # Determine the correct function to use for reading the values\n",
    "                            try:\n",
    "                                read_func = {\n",
    "                                    'holding': client.read_holding_registers,\n",
    "                                    'input': client.read_input_registers,\n",
    "                                    'coil': client.read_coils,\n",
    "                                    'discrete': client.read_discrete_inputs\n",
    "                                    }[register_type]\n",
    "                            except:\n",
    "                                logging.exception(f'Invalid Modbus register type for Sensor {sensor_info}')\n",
    "                                continue\n",
    "\n",
    "                            try:\n",
    "                                reading_type_code = {\n",
    "                                    'value': base_reader.VALUE,\n",
    "                                    'state': base_reader.STATE,\n",
    "                                    'counter': base_reader.COUNTER\n",
    "                                }[reading_type]\n",
    "                            except:\n",
    "                                logging.exception(f'Invalid Reading Type for Sensor {sensor_info}')\n",
    "                                continue\n",
    "\n",
    "\n",
    "                            result = read_func(register, reg_count, unit=device_addr)\n",
    "                            if not hasattr(result, 'registers'):\n",
    "                                raise ValueError(f'An error occurred while reading Sensor {sensor_info} from Modbus Device {device_info}')\n",
    "                            \n",
    "                            # make an array of register values with least-signifcant value first\n",
    "                            registers = result.registers\n",
    "\n",
    "                            # calculate the integer equivalent of the registers read\n",
    "                            if endian == 'big':\n",
    "                                registers = reversed(registers)\n",
    "                            val = 0\n",
    "                            mult = 1\n",
    "                            for reg in registers:\n",
    "                                val += reg * mult\n",
    "                                mult *= 2**16\n",
    "\n",
    "                            # Use the struct module to convert this number into the appropriate data type.\n",
    "                            # First, create a byte array that encodes this unsigned number according to \n",
    "                            # how many words it contains.\n",
    "                            reg_count_to_pack_fmt = {\n",
    "                                1: 'H',\n",
    "                                2: 'I',\n",
    "                                4: 'Q'\n",
    "                            }\n",
    "                            pack_fmt = reg_count_to_pack_fmt[reg_count]\n",
    "                            packed_bytes = struct.pack(pack_fmt, val)\n",
    "                            # unpack bytes to convert to correct datatype\n",
    "                            val = struct.unpack(unpack_fmt, packed_bytes)[0]\n",
    "\n",
    "                            if transform:\n",
    "                                val = eval(transform)\n",
    "                            sensor_id = f'{self._settings.LOGGER_ID}_{sensor_name}'\n",
    "                            readings.append( (ts, sensor_id, val, reading_type_code) )                                \n",
    "\n",
    "                        except Exception as err:\n",
    "                            logging.exception(str(err))\n",
    "                            continue    # on to next sensor\n",
    "\n",
    "            except Exception as err:\n",
    "                logging.exception(str(err))\n",
    "                continue   # on to next device\n",
    "\n",
    "        return readings\n",
    "\n",
    "ModbusTCPreader(settings).read()"
   ]
  },
  {
   "cell_type": "code",
   "execution_count": 151,
   "metadata": {},
   "outputs": [
    {
     "output_type": "execute_result",
     "data": {
      "text/plain": "'test'"
     },
     "metadata": {},
     "execution_count": 151
    }
   ],
   "source": []
  }
 ],
 "metadata": {
  "language_info": {
   "codemirror_mode": {
    "name": "ipython",
    "version": 3
   },
   "file_extension": ".py",
   "mimetype": "text/x-python",
   "name": "python",
   "nbconvert_exporter": "python",
   "pygments_lexer": "ipython3",
   "version": 3
  },
  "orig_nbformat": 2,
  "kernelspec": {
   "name": "python_defaultSpec_1594237964650",
   "display_name": "Python 3.7.6 64-bit ('base': conda)"
  }
 },
 "nbformat": 4,
 "nbformat_minor": 2
}